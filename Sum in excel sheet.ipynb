{
 "cells": [
  {
   "cell_type": "code",
   "execution_count": 7,
   "id": "c6e98901",
   "metadata": {},
   "outputs": [],
   "source": [
    "import openpyxl\n",
    "from openpyxl import workbook, load_workbook\n",
    "from openpyxl.utils import get_column_letter"
   ]
  },
  {
   "cell_type": "code",
   "execution_count": 8,
   "id": "8456a545",
   "metadata": {},
   "outputs": [
    {
     "name": "stdout",
     "output_type": "stream",
     "text": [
      "<Worksheet \"Daily work allocation Tracker\">\n"
     ]
    }
   ],
   "source": [
    "wb=load_workbook('path.xlsx')\n",
    "ws=wb.active\n",
    "print(ws)"
   ]
  },
  {
   "cell_type": "code",
   "execution_count": 9,
   "id": "c1346f45",
   "metadata": {},
   "outputs": [],
   "source": [
    "lst=[]\n",
    "for col in range(3,8,2):\n",
    "    char=get_column_letter(col)\n",
    "    lst.append(char)\n",
    "for row in range(2,15):\n",
    "    lst1=[]\n",
    "    total=0\n",
    "    for i in lst:\n",
    "        lst1.append(ws[f\"{i}{str(row)}\"].value)\n",
    "    for j in lst1:\n",
    "        if type(j)==int:\n",
    "            total+=j\n",
    "    ws[f\"{'B'}{str(row)}\"].value=total\n",
    "wb.save('path.xlsx')"
   ]
  },
  {
   "cell_type": "code",
   "execution_count": null,
   "id": "29301609",
   "metadata": {},
   "outputs": [],
   "source": []
  }
 ],
 "metadata": {
  "kernelspec": {
   "display_name": "Python 3 (ipykernel)",
   "language": "python",
   "name": "python3"
  },
  "language_info": {
   "codemirror_mode": {
    "name": "ipython",
    "version": 3
   },
   "file_extension": ".py",
   "mimetype": "text/x-python",
   "name": "python",
   "nbconvert_exporter": "python",
   "pygments_lexer": "ipython3",
   "version": "3.11.3"
  }
 },
 "nbformat": 4,
 "nbformat_minor": 5
}
